{
  "worksheets": [
    {"cells": [
      {
        "source": "# MathEngine Tutorial\n\n### Enter device and channel info", 
        "cell_type": "markdown", 
        "metadata": {}
      }, 
      {
        "source": "Enter your informationg and press ctrl+enter to run a block of code", 
        "cell_type": "markdown", 
        "metadata": {}
      }, 
      {
        "cell_type": "code", 
        "language": "python", 
        "outputs": [], 
        "collapsed": true, 
        "input": "# Libraries for manipulating the data\nimport numpy as np\nimport matplotlib.pyplot as plt\n\n# Data source\ndeviceSerial = 'yourSerial'\ninSensor     = 'yourSensorName'\ninChannel    = 'yourChannelName'\noutChannel   = inSensor + '_scaled'\n\n# Uncomment the next two lines to specify start and end time for the data you want\n#start = timestampInSeconds *  NANO_PER_SEC\n#end = timestampInSeconds * NANO_PER_SEC", 
        "metadata": {}
      }, 
      {
        "source": "### Get the data from SensorCloud", 
        "cell_type": "markdown", 
        "metadata": {}
      }, 
      {
        "cell_type": "code", 
        "language": "python", 
        "outputs": [], 
        "collapsed": false, 
        "input": "repo = TimeSeriesRepo(deviceSerial)", 
        "metadata": {}
      }, 
      {
        "source": "- Get a list of all data series on a channel, these series are seperated by sample rate", 
        "cell_type": "markdown", 
        "metadata": {}
      }, 
      {
        "cell_type": "code", 
        "language": "python", 
        "outputs": [], 
        "collapsed": true, 
        "input": "inSeries  = repo.getAllTimeSeries(inSensor, inChannel)\nprint len(inSeries), \"series found\"", 
        "metadata": {}
      }, 
      {
        "source": "### Strip out the data\n\nEach data series is a virtual list of tuples. The tuples have the form (timestamp, value)", 
        "cell_type": "markdown", 
        "metadata": {}
      }, 
      {
        "cell_type": "code", 
        "language": "python", 
        "outputs": [], 
        "collapsed": true, 
        "input": "series = inSeries[0]\nvalues = series.getData()\ntimestamps= series.getTimestamps()\n\nprint timestamps[0]\nprint values[0]", 
        "metadata": {}
      }, 
      {
        "source": "After manipulating the data you can zip it with the timestamps to restore the list of tuples", 
        "cell_type": "markdown", 
        "metadata": {}
      }, 
      {
        "cell_type": "code", 
        "language": "python", 
        "outputs": [], 
        "collapsed": true, 
        "input": "# We cast values to a numpy array so we can perform math operations across all of the values\n# Python will treat the numpy array as it would a standard list\narray = np.array(values)\n\n# Scale the values by 10\narray = array*10\nprint \"Scaled %s points...\" % len(array)\n\n# Zip them back up with the timestamps\noutData = zip(timestamps, array)", 
        "metadata": {}
      }, 
      {
        "source": "Now we have the scaled data in format thats ready to be uploaded back to SensorCloud", 
        "cell_type": "markdown", 
        "metadata": {}
      }, 
      {
        "source": "### Uploading data to SensorCloud", 
        "cell_type": "markdown", 
        "metadata": {}
      }, 
      {
        "source": "To upload data to SensorCloud we need to create a new data series.\nFor this example we'll upload the data to the same sensor with a modified channel name.\nWe also use the same samplerate of the existing channel.\nIf the sensor or channel doesn't yet exist on the device, they will be created when you upload data.", 
        "cell_type": "markdown", 
        "metadata": {}
      }, 
      {
        "cell_type": "code", 
        "language": "python", 
        "outputs": [], 
        "collapsed": true, 
        "input": "outSeries = repo.createTimeSeries(inSensor, outChannel, series.getSampleRate(), series.getSampleRateType())", 
        "metadata": {}
      }, 
      {
        "source": "You can use the push() method to push a list of tuples into the data series", 
        "cell_type": "markdown", 
        "metadata": {}
      }, 
      {
        "cell_type": "code", 
        "language": "python", 
        "outputs": [], 
        "collapsed": true, 
        "input": "outSeries.push(outData)", 
        "metadata": {}
      }, 
      {
        "source": "This data will be uploaded to SensorCloud when you call the save method", 
        "cell_type": "markdown", 
        "metadata": {}
      }, 
      {
        "cell_type": "code", 
        "language": "python", 
        "outputs": [], 
        "collapsed": true, 
        "input": "outSeries.save()\n\n# Tag the channel as a MathEngine channel so it will be deletable in the SensorCloud interface\noutSeries.tagAsMathengine()", 
        "metadata": {}
      }, 
      {
        "source": "### Plot the data", 
        "cell_type": "markdown", 
        "metadata": {}
      }, 
      {
        "cell_type": "code", 
        "language": "python", 
        "outputs": [], 
        "collapsed": false, 
        "input": "# Set the plot size and quality\nmatplotlib.rcParams['figure.figsize'] = (8,5)\nrcParams['savefig.dpi'] = 100", 
        "metadata": {}
      }, 
      {
        "cell_type": "code", 
        "language": "python", 
        "outputs": [], 
        "collapsed": false, 
        "input": "# X axis is 0 - n\narraySize = len(array)\nxValues = np.arange(arraySize)\n\n# Maximum value in the y axis\nmaxY = np.amax(array)*1.25\n\n# Plot the values and fill in the space below them\nplt.plot(xValues, array, color = 'k')\nplt.fill_between(xValues, array, color = '#3779ca', alpha = 0.7)\n\n# Set the bounds of the plot\n# [xMin, xMax, yMin, yMax]\nplt.axis([0, arraySize, 0, maxY])\n\n# Turn on the grid\nplt.grid(True)\n\n# Title the plot and axis\nplt.title( 'Sensor: ' + inSensor +  '\\n' + \n           'Channel: ' + inChannel + '\\n' +\n           'Sampled at: ' + str(series.getSampleRate()) + ' ' + series.getSampleRateType())\nplt.xlabel( 'X Axis' )\nplt.ylabel( 'Y Axis' )", 
        "metadata": {}
      }], 
      "metadata": {}
    }], 
    "nbformat_minor": 0, 
    "metadata": 
  {
    "id": "a5f9b5a6-6c4a-4d05-a344-ea05f7967a5a", 
    "name": "MathEngine_Tutorial"
  }, 
  "nbformat": 3
}




















