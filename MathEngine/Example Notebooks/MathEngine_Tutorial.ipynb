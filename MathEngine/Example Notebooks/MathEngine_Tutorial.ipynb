{
 "cells": [
  {
   "cell_type": "markdown",
   "metadata": {},
   "source": [
    "# MathEngine Tutorial\n",
    "\n",
    "### Enter device and channel info"
   ]
  },
  {
   "cell_type": "markdown",
   "metadata": {},
   "source": [
    "Enter your informationg and press ctrl+enter to run a block of code"
   ]
  },
  {
   "cell_type": "code",
   "execution_count": null,
   "metadata": {
    "collapsed": true
   },
   "outputs": [],
   "source": [
    "# Libraries for manipulating the data\n",
    "import numpy as np\n",
    "import matplotlib.pyplot as plt\n",
    "\n",
    "# Data source\n",
    "deviceSerial = 'yourSerial'\n",
    "inSensor     = 'yourSensorName'\n",
    "inChannel    = 'yourChannelName'\n",
    "outChannel   = inSensor + '_scaled'\n",
    "\n",
    "# Uncomment the next two lines to specify start and end time for the data you want\n",
    "#start = timestampInSeconds *  NANO_PER_SEC\n",
    "#end = timestampInSeconds * NANO_PER_SEC"
   ]
  },
  {
   "cell_type": "markdown",
   "metadata": {},
   "source": [
    "### Get the data from SensorCloud"
   ]
  },
  {
   "cell_type": "code",
   "execution_count": null,
   "metadata": {
    "collapsed": false
   },
   "outputs": [],
   "source": [
    "repo = TimeSeriesRepo(deviceSerial)"
   ]
  },
  {
   "cell_type": "markdown",
   "metadata": {},
   "source": [
    "- Get a list of all data series on a channel, these series are seperated by sample rate"
   ]
  },
  {
   "cell_type": "code",
   "execution_count": null,
   "metadata": {
    "collapsed": false
   },
   "outputs": [],
   "source": [
    "inSeries  = repo.getAllTimeSeries(inSensor, inChannel)\n",
    "print len(inSeries), \"series found\""
   ]
  },
  {
   "cell_type": "markdown",
   "metadata": {},
   "source": [
    "### Strip out the data\n",
    "\n",
    "Each data series is a virtual list of tuples. The tuples have the form (timestamp, value)"
   ]
  },
  {
   "cell_type": "code",
   "execution_count": null,
   "metadata": {
    "collapsed": false
   },
   "outputs": [],
   "source": [
    "series = inSeries[0]\n",
    "values = series.getData()\n",
    "timestamps= series.getTimeStamps()\n",
    "\n",
    "print timestamps[0]\n",
    "print values[0]"
   ]
  },
  {
   "cell_type": "markdown",
   "metadata": {},
   "source": [
    "After manipulating the data you can zip it with the timestamps to restore the list of tuples"
   ]
  },
  {
   "cell_type": "code",
   "execution_count": null,
   "metadata": {
    "collapsed": false
   },
   "outputs": [],
   "source": [
    "# We cast values to a numpy array so we can perform math operations across all of the values\n",
    "# Python will treat the numpy array as it would a standard list\n",
    "array = np.array(values)\n",
    "\n",
    "# Scale the values by 10\n",
    "array = array*10\n",
    "print \"Scaled %s points...\" % len(array)\n",
    "\n",
    "# Zip them back up with the timestamps\n",
    "outData = zip(timestamps, array)"
   ]
  },
  {
   "cell_type": "markdown",
   "metadata": {},
   "source": [
    "Now we have the scaled data in format thats ready to be uploaded back to SensorCloud"
   ]
  },
  {
   "cell_type": "markdown",
   "metadata": {},
   "source": [
    "### Alternate Data Retrieval\n",
    "Rather than load all of the data into memory at once and then process it, we can iterate over the series.  Under the hood, the TimeSeriesRepo will load the data when we need it, and remove it from memory when we're finished.  This allows for processing of massive data sets without running out of memory."
   ]
  },
  {
   "cell_type": "code",
   "execution_count": null,
   "metadata": {
    "collapsed": false
   },
   "outputs": [],
   "source": [
    "outData2 = []\n",
    "for point in series:\n",
    "    newPoint = (point[0],point[1]*10)\n",
    "    outData2.append(newPoint)"
   ]
  },
  {
   "cell_type": "markdown",
   "metadata": {},
   "source": [
    "### Uploading data to SensorCloud"
   ]
  },
  {
   "cell_type": "markdown",
   "metadata": {},
   "source": [
    "To upload data to SensorCloud we need to create a new data series.\n",
    "For this example we'll upload the data to the same sensor with a modified channel name.\n",
    "We also use the same samplerate of the existing channel.\n",
    "If the sensor or channel doesn't yet exist on the device, they will be created when you upload data."
   ]
  },
  {
   "cell_type": "code",
   "execution_count": null,
   "metadata": {
    "collapsed": true
   },
   "outputs": [],
   "source": [
    "outSeries = repo.createTimeSeries(inSensor, outChannel, series.getSampleRate(), series.getSampleRateType())"
   ]
  },
  {
   "cell_type": "markdown",
   "metadata": {},
   "source": [
    "You can use the push() method to push a list of tuples into the data series"
   ]
  },
  {
   "cell_type": "code",
   "execution_count": null,
   "metadata": {
    "collapsed": true
   },
   "outputs": [],
   "source": [
    "outSeries.push(outData)"
   ]
  },
  {
   "cell_type": "markdown",
   "metadata": {},
   "source": [
    "This data will be uploaded to SensorCloud when you call the save method"
   ]
  },
  {
   "cell_type": "code",
   "execution_count": null,
   "metadata": {
    "collapsed": true
   },
   "outputs": [],
   "source": [
    "outSeries.save()\n",
    "\n",
    "# Tag the channel as a MathEngine channel so it will be deletable in the SensorCloud interface\n",
    "outSeries.tagAsMathengine()"
   ]
  },
  {
   "cell_type": "markdown",
   "metadata": {},
   "source": [
    "### Plot the data"
   ]
  },
  {
   "cell_type": "code",
   "execution_count": null,
   "metadata": {
    "collapsed": false
   },
   "outputs": [],
   "source": [
    "# Set the plot size and quality\n",
    "matplotlib.rcParams['figure.figsize'] = (8,5)\n",
    "matplotlib.rcParams['savefig.dpi'] = 100"
   ]
  },
  {
   "cell_type": "code",
   "execution_count": null,
   "metadata": {
    "collapsed": false
   },
   "outputs": [],
   "source": [
    "# X axis is 0 - n\n",
    "arraySize = len(array)\n",
    "xValues = np.arange(arraySize)\n",
    "\n",
    "# Maximum value in the y axis\n",
    "maxY = np.amax(array)*1.25\n",
    "\n",
    "# Plot the values and fill in the space below them\n",
    "plt.plot(xValues, array, color = 'k')\n",
    "plt.fill_between(xValues, array, color = '#3779ca', alpha = 0.7)\n",
    "\n",
    "# Set the bounds of the plot\n",
    "# [xMin, xMax, yMin, yMax]\n",
    "plt.axis([0, arraySize, 0, maxY])\n",
    "\n",
    "# Turn on the grid\n",
    "plt.grid(True)\n",
    "\n",
    "# Title the plot and axis\n",
    "plt.title( 'Sensor: ' + inSensor +  '\\n' + \n",
    "           'Channel: ' + inChannel + '\\n' +\n",
    "           'Sampled at: ' + str(series.getSampleRate()) + ' ' + series.getSampleRateType())\n",
    "plt.xlabel( 'X Axis' )\n",
    "plt.ylabel( 'Y Axis' )"
   ]
  },
  {
   "cell_type": "code",
   "execution_count": null,
   "metadata": {
    "collapsed": true
   },
   "outputs": [],
   "source": []
  }
 ],
 "metadata": {
  "id": "a5f9b5a6-6c4a-4d05-a344-ea05f7967a5a",
  "kernelspec": {
   "display_name": "Python 2",
   "language": "python",
   "name": "python2"
  },
  "language_info": {
   "codemirror_mode": {
    "name": "ipython",
    "version": 2
   },
   "file_extension": ".py",
   "mimetype": "text/x-python",
   "name": "python",
   "nbconvert_exporter": "python",
   "pygments_lexer": "ipython2",
   "version": "2.7.11"
  }
 },
 "nbformat": 4,
 "nbformat_minor": 0
}
