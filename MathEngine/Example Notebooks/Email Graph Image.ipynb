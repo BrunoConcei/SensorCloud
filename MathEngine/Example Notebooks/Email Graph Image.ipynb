{
 "metadata": {
  "id": "4df9cdc2-21f7-48e3-b15d-005ba15b9413",
  "name": "Email Demo",
  "signature": "sha256:3911e2f64276c1d4a8495bd97696dc15636740d31357d6bb89cd2a0c8f052651"
 },
 "nbformat": 3,
 "nbformat_minor": 0,
 "worksheets": [
  {
   "cells": [
    {
     "cell_type": "markdown",
     "metadata": {},
     "source": "Email report with embedded Graphs\n=========================================\n\nLORD Sensing Systems\n--------------------"
    },
    {
     "cell_type": "code",
     "collapsed": false,
     "input": "import numpy as np\nfrom scipy import signal\nimport matplotlib\nfrom mpl_toolkits.mplot3d import Axes3D\nfrom matplotlib.collections import PolyCollection\nfrom matplotlib import cm, colors, pyplot, dates\nfrom MathEngine import FFT as meFFT\nimport pylab as pl\nfrom emailClassSensorCloud import sensorCloudEmailMSG\n\n#settings for plots\nmatplotlib.rcParams['figure.figsize'] = (12,5)\nrcParams['savefig.dpi'] = 100",
     "language": "python",
     "metadata": {},
     "outputs": []
    },
    {
     "cell_type": "markdown",
     "metadata": {},
     "source": "Get the last five minutes of data from SensorCloud\n---------------------------------------------------"
    },
    {
     "cell_type": "code",
     "collapsed": false,
     "input": "#create a repo object for the device\nrepo = TimeSeriesRepo('DEVICE_ID')\n#pull all time-series streams for the desired channel\nallSeries = repo.getAllTimeSeries( 'SENSOR_NAME', 'CHANNEL_NAME')\n#assuming single series \nseries = allSeries[0]\nlastTimestamp = series[-1][0]\n\n#using the lastTimestamp, calculate the start time for the range (5 minutes ago)\n#five minutes in nano seconds\nFIVE_MIN_NANO = NANO_PER_SEC * 300\nstartTimestamp = lastTimestamp - FIVE_MIN_NANO\n\n#now fetch series in the given time range\nallSeries = repo.getAllTimeSeries( 'SENSOR_NAME', 'CHANNEL_NAME', startTime=startTimestamp, endTime=lastTimestamp)\nseries = allSeries[0]",
     "language": "python",
     "metadata": {},
     "outputs": []
    },
    {
     "cell_type": "code",
     "collapsed": false,
     "input": "times = np.array(series.getTimeStamps())\ndata = np.array(series.getData())",
     "language": "python",
     "metadata": {},
     "outputs": []
    },
    {
     "cell_type": "code",
     "collapsed": false,
     "input": "#convert timestamps into seconds for plotting\nstart = times[0]\ntimes = (times - start)/float(NANO_PER_SEC)",
     "language": "python",
     "metadata": {},
     "outputs": []
    },
    {
     "cell_type": "code",
     "collapsed": false,
     "input": "#generate a plot with times on the x axis, data on the y, using red dots, and the name of the \nplot(times, data, '.r', label='SENSOR_NAME CHANNEL_NAME')\nxlabel('x-Axis Label')\nylabel('y-Axis label')\ntitle('Sensor Data')\npl.legend(loc='upper right')      \n#save the plot to a file called \"local.png\"\nsavefig('local.png', dpi = 100) ",
     "language": "python",
     "metadata": {},
     "outputs": []
    },
    {
     "cell_type": "markdown",
     "metadata": {},
     "source": "Emailing The Image\n=======================\nGenerating the message\n-----------------------"
    },
    {
     "cell_type": "code",
     "collapsed": false,
     "input": "\nfrom email.mime.image import MIMEImage\nfrom email.mime.multipart import MIMEMultipart\nfrom email.mime.text import MIMEText\n\n# Load the image we saved as binary string\nimg_data = open('local.png', 'rb').read()\n\n# Create a \"related\" message container that will hold the HTML \nmsg = MIMEMultipart(_subtype='related')\n\n# Create the body with HTML. Note that the image, since it is inline, is \n# referenced with the URL cid:myimage\n\nemailcontent = ''\n\nemailcontent += '<p><img src=\"http://sensorcloud.com/static/img/logos/sc_powered_logo.png\"></p><br>'\nemailcontent += '<h1>MathEngine Email Demo</h1>'\nemailcontent += '<p><img src=\"cid:MathEnginePlot\" /></p>'\nemailcontent += '<p>This image and email was generated using MathEngine!</p>'\nmsg.attach(MIMEText(emailcontent, _subtype='html'))\n\n# Now create the MIME container for the images\nimg = MIMEImage(img_data, 'png')\nimg.add_header('Content-Id', '<MathEnginePlot>')  # angle brackets are important\nmsg.attach(img)\n\n",
     "language": "python",
     "metadata": {},
     "outputs": []
    },
    {
     "cell_type": "heading",
     "level": 2,
     "metadata": {},
     "source": "Sending the message"
    },
    {
     "cell_type": "code",
     "collapsed": false,
     "input": "import smtplib\n\nemail_from = \"FROM_ADDRESS\"\nemail_to = \"SEND_ADDRESS\"\nemail_subject = \"SUBJECT\"\nsmtp_server = \"SMTP_SERVER\"\nsmtp_port = 587  \nsmtp_username = \"SMTP_USER\"\nsmtp_password = \"SMTP_PASSWORD\"\n\nserver = smtplib.SMTP(smtp_server, smtp_port)\nserver.starttls()\nserver.login(smtp_username, smtp_password)\n\nmsg[\"From\"] = email_from\nmsg[\"Subject\"] = email_subject\nmsg[\"To\"] = email_to\n\nserver.sendmail(email_from, email_to, msg.as_string())",
     "language": "python",
     "metadata": {},
     "outputs": []
    }
   ],
   "metadata": {}
  }
 ]
}