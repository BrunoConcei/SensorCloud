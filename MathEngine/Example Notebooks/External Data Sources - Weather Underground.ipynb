{
 "metadata": {
  "id": "571ab56e-1ec4-41cc-9f32-f6af3711b74a",
  "name": "GetWeatherUndergroundData"
 },
 "nbformat": 3,
 "nbformat_minor": 0,
 "worksheets": [
  {
   "cells": [
    {
     "cell_type": "markdown",
     "metadata": {},
     "source": "<h1>Get Weather </h1>\n<h2>This Notebook Demonstrates</h2>\n<ul>\n<li>Getting data using 3rd party API, Weather Underground</li>\n<li>Parsing a JSON </li>\n<li>Pushing channel data to SensorCloud </li>\n<li>Schedualing </li>\n</ul>"
    },
    {
     "cell_type": "code",
     "collapsed": false,
     "input": "#weather underground connection information \nimport urllib2\nimport json\n\nwuAPIkey = 'FFFFFFFFFFFFFFFFF'  #get your free api key at http://www.wunderground.com/weather/api/\nzipcode = '90210'            #set your own zip code\n\nurl = 'http://api.wunderground.com/api/' + wuAPIkey + '/geolookup/conditions/q/IA/' + zipcode + '.json'\n",
     "language": "python",
     "metadata": {},
     "outputs": []
    },
    {
     "cell_type": "code",
     "collapsed": false,
     "input": "# WSDA Data Location Information\ndeviceSerial = 'FFFFFFFFFFFFFFFFF' #set your own WSDA serial here to post back to SensorCloud\ninSensor     = 'WeatherUnderground'\ninChannel1   = 'Temperature'\ninChannel2   = 'Humidity'\ninChannel3   = 'DewPoint'\ninChannel4   = 'WindSpeedMPH'\n\nrepo = TimeSeriesRepo(deviceSerial)\n\ntry:\n    outSeries1 = repo.createTimeSeries(inSensor, inChannel1, 900, 'seconds')\nexcept:\n    outSeries1 = repo.getAllTimeSeries(inSensor, inChannel1)[0]\n    \ntry:\n    outSeries2 = repo.createTimeSeries(inSensor, inChannel2, 900, 'seconds')\nexcept:\n    outSeries2 = repo.getAllTimeSeries(inSensor, inChannel2)[0]\n    \ntry:\n    outSeries3 = repo.createTimeSeries(inSensor, inChannel3, 900, 'seconds')\nexcept:\n    outSeries3 = repo.getAllTimeSeries(inSensor, inChannel3)[0]\n    \ntry:\n    outSeries4 = repo.createTimeSeries(inSensor, inChannel4, 900, 'seconds')\nexcept:\n    outSeries4 = repo.getAllTimeSeries(inSensor, inChannel4)[0]",
     "language": "python",
     "metadata": {},
     "outputs": []
    },
    {
     "cell_type": "code",
     "collapsed": false,
     "input": "# Getting the data from weather underground\nf = urllib2.urlopen(url)\njson_string = f.read()\nparsed_json = json.loads(json_string)\nlocation = parsed_json['location']['city']\nf.close()",
     "language": "python",
     "metadata": {},
     "outputs": []
    },
    {
     "cell_type": "code",
     "collapsed": false,
     "input": "# Parsing the json data\nrh_s = parsed_json['current_observation']['relative_humidity']\ntemp_c = parsed_json['current_observation']['temp_c']\ndewpoint_c = parsed_json['current_observation']['dewpoint_c']\nwind_mph = parsed_json['current_observation']['wind_mph']\ntime_s = parsed_json['current_observation']['local_epoch']\ntime_offset_hours = parsed_json['current_observation']['local_tz_offset']",
     "language": "python",
     "metadata": {},
     "outputs": []
    },
    {
     "cell_type": "code",
     "collapsed": false,
     "input": "#Turning %RH to float\nrh_f = float(rh_s.replace(\"%\",\"\"))",
     "language": "python",
     "metadata": {},
     "outputs": []
    },
    {
     "cell_type": "code",
     "collapsed": false,
     "input": "#Turning time in seconds into time in nanoseconds\ntime_ns = float(time_s) *  NANO_PER_SEC",
     "language": "python",
     "metadata": {},
     "outputs": []
    },
    {
     "cell_type": "code",
     "collapsed": false,
     "input": "print time_ns",
     "language": "python",
     "metadata": {},
     "outputs": []
    },
    {
     "cell_type": "code",
     "collapsed": false,
     "input": "#creating tupuls (time,value)\noutData1 = [(time_ns, temp_c)]\noutData2 = [(time_ns, rh_f)]\noutData3 = [(time_ns, dewpoint_c)]\noutData4 = [(time_ns, wind_mph)]\nprint 'outData1: ',outData1\nprint 'outData2: ',outData2\nprint 'outData3: ',outData3\nprint 'outData4: ',outData4",
     "language": "python",
     "metadata": {},
     "outputs": []
    },
    {
     "cell_type": "code",
     "collapsed": false,
     "input": "#Publishing data to SensorCloud\n\n#outSeries1.push(outData1)\n#outSeries1.save()\n#outSeries1.tagAsMathengine()\n\n#outSeries2.push(outData2)\n#outSeries2.save()\n#outSeries2.tagAsMathengine()\n\n#outSeries3.push(outData3)\n#outSeries3.save()\n#outSeries3.tagAsMathengine()\n\n#outSeries4.push(outData4)\n#outSeries4.save()\n#outSeries4.tagAsMathengine()",
     "language": "python",
     "metadata": {},
     "outputs": []
    },
    {
     "cell_type": "code",
     "collapsed": false,
     "input": "#this will print in the MathEngine output console\nprint 'this event data is from: ', float(time_s)",
     "language": "python",
     "metadata": {},
     "outputs": []
    },
    {
     "cell_type": "code",
     "collapsed": false,
     "input": "#print out the whole json (use for debugging)\nparsed_json",
     "language": "python",
     "metadata": {},
     "outputs": []
    }
   ],
   "metadata": {}
  }
 ]
}