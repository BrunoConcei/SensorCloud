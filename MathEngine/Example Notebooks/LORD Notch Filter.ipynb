{
 "metadata": {
  "id": "efa01b1d-238c-4b7b-bfad-7abf0d5798d5",
  "name": "LORD Notch Filter"
 },
 "nbformat": 3,
 "nbformat_minor": 0,
 "worksheets": [
  {
   "cells": [
    {
     "cell_type": "code",
     "collapsed": false,
     "input": "import numpy as np\nimport matplotlib.pyplot as plt\n\n#settins for plots\nmatplotlib.rcParams['figure.figsize'] = (10,4)\nrcParams['savefig.dpi'] = 100",
     "language": "python",
     "metadata": {},
     "outputs": []
    },
    {
     "cell_type": "code",
     "collapsed": false,
     "input": "#get the data from SensorCloud\nrepo = TimeSeriesRepo('0000000028')\n\n#Boeing TRDS input data\ndataSet1Label = 'TRDS Torque data'\nallSeries = repo.getAllTimeSeries( '1', 'ch1', startTime=1403795421682288000, endTime=1403802605678633000 )\nseries1 = allSeries[0]\ntimestamps = series1.getTimeStamps()\ntimes = numpy.array(series1.getTimeStamps())\n\n#convert timestamps into seconds for plotting\nstart = times[0]\ntimes = (times - start)/1e9\n\n#Get timeseries out of the data\nvalues1 = np.array(series1.getData())",
     "language": "python",
     "metadata": {},
     "outputs": []
    },
    {
     "cell_type": "code",
     "collapsed": false,
     "input": "#pad or remove values from arrays to reduce prime numbers (fft computing time)\ntimes = times[:-1]\nvalues1 = values1[:-1]",
     "language": "python",
     "metadata": {},
     "outputs": []
    },
    {
     "cell_type": "code",
     "collapsed": false,
     "input": "#plot the data\nplot(times, values1, color = 'r', label=dataSet1Label)\nplt.title('Time Series Data')\nlegend(loc='upper right')\nylabel('Torque[ft*lbf]')\nxlabel('Time[seconds]')",
     "language": "python",
     "metadata": {},
     "outputs": []
    },
    {
     "cell_type": "code",
     "collapsed": false,
     "input": "#build FFT function\n\ndef getFft(values, samplerate, xMin = None, xMax = None):\n    out = np.absolute(np.fft.fft(values))\n    freq = np.fft.fftfreq(out.size, 1.0/samplerate)\n    \n    out = out[1:len(out)/2]\n    freq = freq[1:len(freq)/2]\n    \n    if xMin == None or xMin < 0.1:\n        xMin = 0.1\n    for i, value in list(enumerate(freq)):\n        if value >= xMin:\n            freq = freq[i:]\n            out = out[i:]\n            break\n    \n    if xMax != None:\n        for i, value in reversed(list(enumerate(freq))):\n            if value <= xMax:\n                freq = freq[:i]\n                out = out[:i]\n                break\n        \n    return (out, freq)\n#FFT Algorithm written by Justin Bessette, LORD Corporation, 2014",
     "language": "python",
     "metadata": {},
     "outputs": []
    },
    {
     "cell_type": "code",
     "collapsed": false,
     "input": "#FFT on the time series torque data\nlowerLimit = 0 #hz\nupperLimit = 125 #hz\n\nfft1, freq1 = getFft(values1, series1.getSampleRate(), xMin = lowerLimit, xMax=upperLimit)\nfft1 = fft1/float(len(values1)/2.0)\npeak1 = numpy.argmax(fft1)\n\n#plot the FFT\nplot(freq1, fft1, color='r', label=dataSet1Label)\nplt.title('Shaft Frequency Spectrum')\nlegend(loc='upper right')\nylabel('Torque Energy')\nxlabel('Frequency[Hz]')\n\n#FFT Algorithm written by Justin Bessette, LORD Corporation, 2014",
     "language": "python",
     "metadata": {},
     "outputs": []
    },
    {
     "cell_type": "code",
     "collapsed": false,
     "input": "#build notch filter to remove RF artifact and harmonics\nfrom scipy.signal import firwin, kaiserord, filtfilt\n\nnyq_rate = (series1.getSampleRate()/2) #calculate signal Nyquist frequency\n\nwidth = .6/nyq_rate #filter width\n\ndip = 21.0 #desired attenuation\n\n#compute filter coefficients\nN, beta = kaiserord(dip, width)\n\n#filter bandpass windows 0-f1, f2-f3, f4-f5,...etc \ncutoff_hz = [31.7, 32.3, 63.7, 64.3, 95.7, 96.3, 127.7, 128.3, 159.7, 160.3, 191.7, 192.3, 200.0] #cutoff of filter\ncutoff_hz_nyq = []\n#build bandpass window array normalized by nyquist frequency\nfor x in cutoff_hz:\n    cutoff_hz_nyq.append(x/nyq_rate)\n\ntaps = firwin(N, cutoff_hz_nyq, window=('kaiser', beta))\n#print len(taps)\nfiltered_x = filtfilt(taps, [1.0], values1)\n\n\nfigure(1)\nplot(taps, 'bo-', linewidth=2)\ntitle('%d Order Filter' % N)\nylabel('Attenuation')\nxlabel('Notch Width')\ngrid(True)\n\nfigure(2)\nplot(times, values1, 'r-', alpha=.5)\nplot(times, filtered_x, 'b-')\ntitle('Notch Filtered')\nylabel('Torque[ft*lbf]')\nxlabel('Time[sec]')",
     "language": "python",
     "metadata": {},
     "outputs": []
    },
    {
     "cell_type": "code",
     "collapsed": false,
     "input": "#fft on filtered data \nfft3, freq3 = getFft(filtered_x, series1.getSampleRate(), xMin = lowerLimit, xMax=upperLimit)\nfft3 = fft3/float(len(filtered_x)/2.0)\npeak3 = numpy.argmax(fft3)\n\n#plot the Time Series comparison and the FFT comparison\nfig, (ax1, ax2, ax3, ax4) = plt.subplots(4, 1, sharex = False, figsize=(12,15))\n\nax1.set_title('Original and Notch Filtered Data')\n\nax1.plot(times, values1, color='r', alpha=1, label='Time Series Original')\nax2.plot(times, filtered_x, color='r', alpha=1, label='Time Series Filtered')\nax3.plot(freq1, fft1, color='b', alpha=1, label='Frequency Spectrum Original')\nax4.plot(freq3, fft3, color='b', alpha=1, label='Frequency Spectrum Notch Filtered')\n\nax1.legend(frameon=False, fontsize=10)\nax2.legend(frameon=False, fontsize=10)\n#ax3.legend(frameon=False, fontsize=10)\n#ax4.legend(frameon=False, fontsize=10)\nax1.set_ylabel('Torque (in*lbf)'); ax2.set_ylabel('Torque (in*lbf)')\nax1.set_xlabel('Time (sec)'); ax2.set_xlabel('Time (sec)')\nax3.set_xlabel('Frequency (Hz)'); ax4.set_xlabel('Frequency (Hz)')\n\n",
     "language": "python",
     "metadata": {},
     "outputs": []
    },
    {
     "cell_type": "code",
     "collapsed": false,
     "input": "#push data back to sensorcloud\n\n#outData = zip(timestamps, filtered_x)\n\n#outSeries = repo.createTimeSeries('1', 'ch1_Dan_Notch_Filter',series1.getSampleRate(), series1.getSampleRateType())\n\n#outSeries.push(outData)\n\n#outSeries.save()\n\n#outSeries.tagAsMathengine()",
     "language": "python",
     "metadata": {},
     "outputs": []
    },
    {
     "cell_type": "code",
     "collapsed": false,
     "input": "",
     "language": "python",
     "metadata": {},
     "outputs": []
    }
   ],
   "metadata": {}
  }
 ]
}